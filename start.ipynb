{
 "cells": [
  {
   "cell_type": "code",
   "execution_count": 1,
   "metadata": {},
   "outputs": [],
   "source": [
    "import torch\n",
    "from torch import nn\n",
    "from torch.nn import functional as F\n",
    "import numpy as np\n",
    "import time\n",
    "from matplotlib import pyplot as plt\n",
    "import pandas as pd"
   ]
  },
  {
   "cell_type": "code",
   "execution_count": 2,
   "metadata": {},
   "outputs": [],
   "source": [
    "from steps.ingest_data import IngestData\n",
    "from steps.tokenizer import CharacterTokenizer"
   ]
  },
  {
   "cell_type": "code",
   "execution_count": 3,
   "metadata": {},
   "outputs": [],
   "source": [
    "from steps.utils import get_batches"
   ]
  },
  {
   "cell_type": "code",
   "execution_count": 4,
   "metadata": {},
   "outputs": [],
   "source": [
    "lines = IngestData(\"Data/\").get_data()"
   ]
  },
  {
   "cell_type": "code",
   "execution_count": 5,
   "metadata": {},
   "outputs": [],
   "source": [
    "tokenizer = CharacterTokenizer(lines)"
   ]
  },
  {
   "cell_type": "code",
   "execution_count": 6,
   "metadata": {},
   "outputs": [],
   "source": [
    "MASTER_CONFIG = {\n",
    "    \"vocab_size\": len(tokenizer.vocab),\n",
    "}"
   ]
  },
  {
   "cell_type": "code",
   "execution_count": 7,
   "metadata": {},
   "outputs": [],
   "source": [
    "dataset = torch.tensor(tokenizer.encode(lines), dtype=torch.int8)"
   ]
  },
  {
   "cell_type": "code",
   "execution_count": 8,
   "metadata": {},
   "outputs": [],
   "source": [
    "MASTER_CONFIG.update({\n",
    "    'batch_size': 8,\n",
    "    'context_window': 16\n",
    "})"
   ]
  },
  {
   "cell_type": "code",
   "execution_count": 9,
   "metadata": {},
   "outputs": [
    {
     "data": {
      "text/plain": [
       "[('\\nCAMILLO:\\nWho ha', 'CAMILLO:\\nWho hav'),\n",
       " ('whither fly the ', 'hither fly the g'),\n",
       " (' heart.\\n\\nGLOUCES', 'heart.\\n\\nGLOUCEST'),\n",
       " (' a little while ', 'a little while t'),\n",
       " ('y humble seat co', ' humble seat con'),\n",
       " ('almost thoroughl', 'lmost thoroughly'),\n",
       " ('conquest of this', 'onquest of this '),\n",
       " ('ood Capulet,--wh', 'od Capulet,--whi')]"
      ]
     },
     "execution_count": 9,
     "metadata": {},
     "output_type": "execute_result"
    }
   ],
   "source": [
    "xs, ys = get_batches(dataset, 'train', MASTER_CONFIG['batch_size'], MASTER_CONFIG['context_window'])\n",
    "\n",
    "[(tokenizer.decode(xs[i].tolist()), tokenizer.decode(ys[i].tolist())) for i in range(len(xs))]"
   ]
  },
  {
   "cell_type": "code",
   "execution_count": 10,
   "metadata": {},
   "outputs": [],
   "source": [
    "MASTER_CONFIG.update({\n",
    "    'd_model': 128,\n",
    "})"
   ]
  },
  {
   "cell_type": "code",
   "execution_count": 11,
   "metadata": {},
   "outputs": [],
   "source": [
    "MASTER_CONFIG.update({\n",
    "    'epochs': 1000,\n",
    "    'log_interval': 10,\n",
    "    'batch_size': 32,\n",
    "})"
   ]
  },
  {
   "cell_type": "code",
   "execution_count": 12,
   "metadata": {},
   "outputs": [],
   "source": [
    "MASTER_CONFIG.update({\n",
    "    'n_heads': 8,\n",
    "})"
   ]
  },
  {
   "cell_type": "code",
   "execution_count": 13,
   "metadata": {},
   "outputs": [],
   "source": [
    "from steps.models_training import llama\n",
    "from steps.utils import generate"
   ]
  },
  {
   "cell_type": "code",
   "execution_count": 14,
   "metadata": {},
   "outputs": [
    {
     "name": "stdout",
     "output_type": "stream",
     "text": [
      "model params: 559681\n"
     ]
    }
   ],
   "source": [
    "model = llama(MASTER_CONFIG)"
   ]
  },
  {
   "cell_type": "code",
   "execution_count": 15,
   "metadata": {},
   "outputs": [
    {
     "name": "stdout",
     "output_type": "stream",
     "text": [
      "Epoch 0 | val loss 4.106 | Time 0.136 | ETA in seconds 13.622\n",
      "Epoch 10 | val loss 3.055 | Time 1.071 | ETA in seconds 106.062\n",
      "Epoch 20 | val loss 2.825 | Time 1.065 | ETA in seconds 104.331\n",
      "Epoch 30 | val loss 2.729 | Time 0.997 | ETA in seconds 96.694\n",
      "Epoch 40 | val loss 2.652 | Time 1.044 | ETA in seconds 100.233\n",
      "Epoch 50 | val loss 2.623 | Time 1.144 | ETA in seconds 108.698\n",
      "Epoch 60 | val loss 2.561 | Time 1.116 | ETA in seconds 104.872\n",
      "Epoch 70 | val loss 2.506 | Time 1.127 | ETA in seconds 104.854\n",
      "Epoch 80 | val loss 2.490 | Time 1.100 | ETA in seconds 101.189\n",
      "Epoch 90 | val loss 2.466 | Time 1.543 | ETA in seconds 140.444\n",
      "Epoch 100 | val loss 2.436 | Time 1.514 | ETA in seconds 136.287\n",
      "Epoch 110 | val loss 2.436 | Time 1.528 | ETA in seconds 135.958\n",
      "Epoch 120 | val loss 2.404 | Time 1.057 | ETA in seconds 92.982\n",
      "Epoch 130 | val loss 2.388 | Time 1.114 | ETA in seconds 96.884\n",
      "Epoch 140 | val loss 2.321 | Time 1.185 | ETA in seconds 101.942\n",
      "Epoch 150 | val loss 2.373 | Time 1.581 | ETA in seconds 134.368\n",
      "Epoch 160 | val loss 2.337 | Time 1.594 | ETA in seconds 133.881\n",
      "Epoch 170 | val loss 2.376 | Time 1.577 | ETA in seconds 130.919\n",
      "Epoch 180 | val loss 2.335 | Time 1.063 | ETA in seconds 87.167\n",
      "Epoch 190 | val loss 2.331 | Time 1.025 | ETA in seconds 83.060\n",
      "Epoch 200 | val loss 2.313 | Time 1.051 | ETA in seconds 84.080\n",
      "Epoch 210 | val loss 2.278 | Time 1.096 | ETA in seconds 86.601\n",
      "Epoch 220 | val loss 2.328 | Time 1.115 | ETA in seconds 86.941\n",
      "Epoch 230 | val loss 2.301 | Time 1.416 | ETA in seconds 109.012\n",
      "Epoch 240 | val loss 2.256 | Time 1.711 | ETA in seconds 130.005\n",
      "Epoch 250 | val loss 2.305 | Time 1.545 | ETA in seconds 115.859\n",
      "Epoch 260 | val loss 2.292 | Time 1.585 | ETA in seconds 117.282\n",
      "Epoch 270 | val loss 2.291 | Time 1.048 | ETA in seconds 76.478\n",
      "Epoch 280 | val loss 2.272 | Time 1.178 | ETA in seconds 84.817\n",
      "Epoch 290 | val loss 2.267 | Time 1.132 | ETA in seconds 80.404\n",
      "Epoch 300 | val loss 2.209 | Time 1.619 | ETA in seconds 113.357\n",
      "Epoch 310 | val loss 2.232 | Time 1.487 | ETA in seconds 102.617\n",
      "Epoch 320 | val loss 2.251 | Time 1.480 | ETA in seconds 100.664\n",
      "Epoch 330 | val loss 2.235 | Time 1.030 | ETA in seconds 68.987\n",
      "Epoch 340 | val loss 2.223 | Time 1.131 | ETA in seconds 74.656\n",
      "Epoch 350 | val loss 2.236 | Time 1.294 | ETA in seconds 84.122\n",
      "Epoch 360 | val loss 2.221 | Time 1.477 | ETA in seconds 94.550\n",
      "Epoch 370 | val loss 2.241 | Time 1.681 | ETA in seconds 105.889\n",
      "Epoch 380 | val loss 2.247 | Time 1.530 | ETA in seconds 94.833\n",
      "Epoch 390 | val loss 2.216 | Time 1.347 | ETA in seconds 82.162\n",
      "Epoch 400 | val loss 2.227 | Time 0.966 | ETA in seconds 57.978\n",
      "Epoch 410 | val loss 2.229 | Time 1.167 | ETA in seconds 68.863\n",
      "Epoch 420 | val loss 2.235 | Time 1.172 | ETA in seconds 68.004\n",
      "Epoch 430 | val loss 2.240 | Time 1.572 | ETA in seconds 89.607\n",
      "Epoch 440 | val loss 2.245 | Time 1.437 | ETA in seconds 80.490\n",
      "Epoch 450 | val loss 2.150 | Time 1.484 | ETA in seconds 81.611\n",
      "Epoch 460 | val loss 2.191 | Time 1.016 | ETA in seconds 54.848\n",
      "Epoch 470 | val loss 2.225 | Time 1.243 | ETA in seconds 65.894\n",
      "Epoch 480 | val loss 2.207 | Time 1.259 | ETA in seconds 65.470\n",
      "Epoch 490 | val loss 2.196 | Time 1.477 | ETA in seconds 75.318\n",
      "Epoch 500 | val loss 2.127 | Time 1.393 | ETA in seconds 69.640\n",
      "Epoch 510 | val loss 2.186 | Time 1.416 | ETA in seconds 69.371\n",
      "Epoch 520 | val loss 2.219 | Time 1.019 | ETA in seconds 48.896\n",
      "Epoch 530 | val loss 2.168 | Time 1.258 | ETA in seconds 59.132\n",
      "Epoch 540 | val loss 2.201 | Time 1.227 | ETA in seconds 56.454\n",
      "Epoch 550 | val loss 2.158 | Time 1.498 | ETA in seconds 67.404\n",
      "Epoch 560 | val loss 2.161 | Time 1.564 | ETA in seconds 68.811\n",
      "Epoch 570 | val loss 2.177 | Time 1.632 | ETA in seconds 70.164\n",
      "Epoch 580 | val loss 2.176 | Time 1.062 | ETA in seconds 44.608\n",
      "Epoch 590 | val loss 2.174 | Time 1.214 | ETA in seconds 49.794\n",
      "Epoch 600 | val loss 2.172 | Time 1.455 | ETA in seconds 58.202\n",
      "Epoch 610 | val loss 2.155 | Time 1.492 | ETA in seconds 58.181\n",
      "Epoch 620 | val loss 2.160 | Time 1.464 | ETA in seconds 55.622\n",
      "Epoch 630 | val loss 2.191 | Time 1.421 | ETA in seconds 52.576\n",
      "Epoch 640 | val loss 2.136 | Time 1.197 | ETA in seconds 43.095\n",
      "Epoch 650 | val loss 2.161 | Time 1.502 | ETA in seconds 52.582\n",
      "Epoch 660 | val loss 2.145 | Time 1.610 | ETA in seconds 54.724\n",
      "Epoch 670 | val loss 2.146 | Time 1.527 | ETA in seconds 50.382\n",
      "Epoch 680 | val loss 2.114 | Time 1.512 | ETA in seconds 48.391\n",
      "Epoch 690 | val loss 2.101 | Time 1.226 | ETA in seconds 37.991\n",
      "Epoch 700 | val loss 2.163 | Time 1.136 | ETA in seconds 34.087\n",
      "Epoch 710 | val loss 2.132 | Time 1.430 | ETA in seconds 41.464\n",
      "Epoch 720 | val loss 2.149 | Time 1.413 | ETA in seconds 39.563\n",
      "Epoch 730 | val loss 2.097 | Time 1.464 | ETA in seconds 39.533\n",
      "Epoch 740 | val loss 2.159 | Time 1.431 | ETA in seconds 37.202\n",
      "Epoch 750 | val loss 2.129 | Time 1.015 | ETA in seconds 25.373\n",
      "Epoch 760 | val loss 2.095 | Time 1.148 | ETA in seconds 27.563\n",
      "Epoch 770 | val loss 2.099 | Time 1.414 | ETA in seconds 32.524\n",
      "Epoch 780 | val loss 2.131 | Time 1.391 | ETA in seconds 30.613\n",
      "Epoch 790 | val loss 2.124 | Time 1.414 | ETA in seconds 29.695\n",
      "Epoch 800 | val loss 2.070 | Time 1.497 | ETA in seconds 29.940\n",
      "Epoch 810 | val loss 2.149 | Time 1.132 | ETA in seconds 21.511\n",
      "Epoch 820 | val loss 2.068 | Time 1.314 | ETA in seconds 23.647\n",
      "Epoch 830 | val loss 2.134 | Time 1.439 | ETA in seconds 24.461\n",
      "Epoch 840 | val loss 2.132 | Time 1.473 | ETA in seconds 23.568\n",
      "Epoch 850 | val loss 2.083 | Time 1.431 | ETA in seconds 21.462\n",
      "Epoch 860 | val loss 2.089 | Time 1.036 | ETA in seconds 14.503\n",
      "Epoch 870 | val loss 2.132 | Time 1.065 | ETA in seconds 13.839\n",
      "Epoch 880 | val loss 2.106 | Time 1.165 | ETA in seconds 13.977\n",
      "Epoch 890 | val loss 2.060 | Time 1.269 | ETA in seconds 13.954\n",
      "Epoch 900 | val loss 2.150 | Time 1.497 | ETA in seconds 14.970\n",
      "Epoch 910 | val loss 2.125 | Time 1.429 | ETA in seconds 12.863\n",
      "Epoch 920 | val loss 2.093 | Time 1.432 | ETA in seconds 11.456\n",
      "Epoch 930 | val loss 2.102 | Time 1.031 | ETA in seconds 7.214\n",
      "Epoch 940 | val loss 2.095 | Time 1.148 | ETA in seconds 6.888\n",
      "Epoch 950 | val loss 2.078 | Time 1.262 | ETA in seconds 6.308\n",
      "Epoch 960 | val loss 2.095 | Time 1.366 | ETA in seconds 5.466\n",
      "Epoch 970 | val loss 2.074 | Time 1.481 | ETA in seconds 4.442\n",
      "Epoch 980 | val loss 2.091 | Time 1.466 | ETA in seconds 2.932\n",
      "Epoch 990 | val loss 2.108 | Time 1.103 | ETA in seconds 1.103\n",
      "validation loss:  2.1078346967697144\n"
     ]
    },
    {
     "data": {
      "image/png": "[encoded data removed]",
      "text/plain": [
       "<Figure size 640x480 with 1 Axes>"
      ]
     },
     "metadata": {},
     "output_type": "display_data"
    }
   ],
   "source": [
    "model,p = model.train(dataset,print_logs=True)"
   ]
  },
  {
   "cell_type": "code",
   "execution_count": 16,
   "metadata": {},
   "outputs": [
    {
     "data": {
      "text/plain": [
       "['\\nTOLO:\\nSelat;\\nCil andy ath\\nWher',\n",
       " \"\\n\\nOLIXESSTER:\\nI's come, is levo\",\n",
       " '\\nFor he torth to groantle be so',\n",
       " \"\\nOF FORYCYORK:\\n'Tathall, where \",\n",
       " '\\nKING!\\n\\nDORI\\nOKE:\\nCome, loorfor']"
      ]
     },
     "execution_count": 16,
     "metadata": {},
     "output_type": "execute_result"
    }
   ],
   "source": [
    "generate(model, tokenizer=tokenizer,config=MASTER_CONFIG)"
   ]
  },
  {
   "cell_type": "code",
   "execution_count": null,
   "metadata": {},
   "outputs": [],
   "source": []
  }
 ],
 "metadata": {
  "kernelspec": {
   "display_name": "llm",
   "language": "python",
   "name": "python3"
  },
  "language_info": {
   "codemirror_mode": {
    "name": "ipython",
    "version": 3
   },
   "file_extension": ".py",
   "mimetype": "text/x-python",
   "name": "python",
   "nbconvert_exporter": "python",
   "pygments_lexer": "ipython3",
   "version": "3.10.7"
  },
  "orig_nbformat": 4
 },
 "nbformat": 4,
 "nbformat_minor": 2
}
